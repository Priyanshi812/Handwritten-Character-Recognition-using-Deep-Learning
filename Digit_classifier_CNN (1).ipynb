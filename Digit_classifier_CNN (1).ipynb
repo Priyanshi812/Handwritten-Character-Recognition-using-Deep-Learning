{
  "metadata": {
    "kernelspec": {
      "language": "python",
      "display_name": "Python 3",
      "name": "python3"
    },
    "language_info": {
      "name": "python",
      "version": "3.10.10",
      "mimetype": "text/x-python",
      "codemirror_mode": {
        "name": "ipython",
        "version": 3
      },
      "pygments_lexer": "ipython3",
      "nbconvert_exporter": "python",
      "file_extension": ".py"
    },
    "kaggle": {
      "accelerator": "gpu",
      "dataSources": [
        {
          "sourceId": 1972672,
          "sourceType": "datasetVersion",
          "datasetId": 1176843
        }
      ],
      "dockerImageVersionId": 30498,
      "isInternetEnabled": true,
      "language": "python",
      "sourceType": "notebook",
      "isGpuEnabled": true
    },
    "colab": {
      "name": "Digit classifier CNN",
      "provenance": []
    }
  },
  "nbformat_minor": 0,
  "nbformat": 4,
  "cells": [
    {
      "cell_type": "code",
      "source": [
        "import tensorflow as tf\n",
        "import pandas as pd\n",
        "import numpy as np\n",
        "import matplotlib.pyplot as plt\n",
        "import os\n",
        "from tensorflow.keras.models import Sequential\n",
        "from tensorflow.keras.layers import Conv2D\n",
        "from tensorflow.keras.layers import MaxPool2D\n",
        "from tensorflow.keras.layers import Flatten\n",
        "from tensorflow.keras.layers import Dense\n",
        "from sklearn.model_selection import train_test_split\n",
        "from sklearn.preprocessing import LabelEncoder\n",
        "import cv2\n",
        "import time\n",
        "import urllib.request"
      ],
      "metadata": {
        "_uuid": "8f2839f25d086af736a60e9eeb907d3b93b6e0e5",
        "_cell_guid": "b1076dfc-b9ad-4769-8c92-a6c4dae69d19",
        "execution": {
          "iopub.status.busy": "2025-05-12T09:34:38.77308Z",
          "iopub.execute_input": "2025-05-12T09:34:38.77338Z",
          "iopub.status.idle": "2025-05-12T09:34:47.198427Z",
          "shell.execute_reply.started": "2025-05-12T09:34:38.77335Z",
          "shell.execute_reply": "2025-05-12T09:34:47.197728Z"
        },
        "trusted": true,
        "id": "JyuUpH-X3XfV"
      },
      "outputs": [],
      "execution_count": 6
    },
    {
      "cell_type": "code",
      "source": [
        "zip_path=\"/content/character dataset.zip\"\n",
        "import zipfile\n",
        "import os\n",
        "with zipfile.ZipFile(zip_path, 'r') as zip_ref:\n",
        "    zip_ref.extractall(\"unzipped_folder\")"
      ],
      "metadata": {
        "id": "Sed40NsmFDsm"
      },
      "execution_count": 5,
      "outputs": []
    },
    {
      "cell_type": "code",
      "source": [
        "def read_url_pic(x):\n",
        "    image_url = x\n",
        "\n",
        "    with urllib.request.urlopen(image_url) as url:\n",
        "        s = url.read()\n",
        "\n",
        "    arr = np.asarray(bytearray(s), dtype=np.uint8)\n",
        "    image = cv2.imdecode(arr, -1)\n",
        "    return image\n",
        "\n",
        "def plot_url_pic(x):\n",
        "    image_url = x\n",
        "\n",
        "    with urllib.request.urlopen(image_url) as url:\n",
        "        s = url.read()\n",
        "\n",
        "    arr = np.asarray(bytearray(s), dtype=np.uint8)\n",
        "    image = cv2.imdecode(arr, -1)\n",
        "\n",
        "    plt.imshow(cv2.cvtColor(image, cv2.COLOR_BGR2RGB))\n",
        "    plt.show()\n",
        "\n",
        "def img_to_arr(x):\n",
        "    img = cv2.imread(x)\n",
        "    img = cv2.cvtColor(img, cv2.COLOR_BGR2GRAY)\n",
        "    img = cv2.resize(img,(64,64))\n",
        "    return img"
      ],
      "metadata": {
        "execution": {
          "iopub.status.busy": "2025-05-12T09:35:36.840257Z",
          "iopub.execute_input": "2025-05-12T09:35:36.840595Z",
          "iopub.status.idle": "2025-05-12T09:35:36.847534Z",
          "shell.execute_reply.started": "2025-05-12T09:35:36.840568Z",
          "shell.execute_reply": "2025-05-12T09:35:36.84665Z"
        },
        "trusted": true,
        "id": "27V8G-bJ3XfW"
      },
      "outputs": [],
      "execution_count": 7
    },
    {
      "cell_type": "code",
      "source": [
        "df = pd.read_csv(\"/content/unzipped_folder/english.csv\")\n",
        "df.head()"
      ],
      "metadata": {
        "execution": {
          "iopub.status.busy": "2025-05-12T09:35:42.65585Z",
          "iopub.execute_input": "2025-05-12T09:35:42.656188Z",
          "iopub.status.idle": "2025-05-12T09:35:42.687821Z",
          "shell.execute_reply.started": "2025-05-12T09:35:42.656163Z",
          "shell.execute_reply": "2025-05-12T09:35:42.68688Z"
        },
        "trusted": true,
        "id": "qBsNiWGZ3XfW"
      },
      "outputs": [],
      "execution_count": null
    },
    {
      "cell_type": "code",
      "source": [
        "df['image']"
      ],
      "metadata": {
        "id": "TFKA-0_PGOte"
      },
      "execution_count": null,
      "outputs": []
    },
    {
      "cell_type": "code",
      "source": [
        "df['image'] = \"/content/unzipped_folder/\" + df['image'].astype(str)\n",
        "df.head()"
      ],
      "metadata": {
        "execution": {
          "iopub.status.busy": "2025-05-12T09:36:12.028238Z",
          "iopub.execute_input": "2025-05-12T09:36:12.028852Z",
          "iopub.status.idle": "2025-05-12T09:36:12.037368Z",
          "shell.execute_reply.started": "2025-05-12T09:36:12.028828Z",
          "shell.execute_reply": "2025-05-12T09:36:12.036604Z"
        },
        "trusted": true,
        "id": "tQpU-scM3XfW"
      },
      "outputs": [],
      "execution_count": null
    },
    {
      "cell_type": "code",
      "source": [
        "df['image'][0]"
      ],
      "metadata": {
        "id": "M7DeSKkBGW7m"
      },
      "execution_count": null,
      "outputs": []
    },
    {
      "cell_type": "code",
      "source": [
        "print(img_to_arr(df['image'][0]).shape)\n",
        "plt.imshow(img_to_arr(df['image'][0]))"
      ],
      "metadata": {
        "execution": {
          "iopub.status.busy": "2025-05-12T09:36:14.913887Z",
          "iopub.execute_input": "2025-05-12T09:36:14.914682Z",
          "iopub.status.idle": "2025-05-12T09:36:15.205803Z",
          "shell.execute_reply.started": "2025-05-12T09:36:14.914656Z",
          "shell.execute_reply": "2025-05-12T09:36:15.204928Z"
        },
        "trusted": true,
        "id": "vKqclCuS3XfX"
      },
      "outputs": [],
      "execution_count": null
    },
    {
      "cell_type": "code",
      "source": [
        "start_time = time.time()\n",
        "import multiprocessing\n",
        "\n",
        "with multiprocessing.Pool(4) as p:\n",
        "    images = p.map(img_to_arr, df['image'])\n",
        "end_time = time.time()\n",
        "print(\"with multiprocessing:\", end_time-start_time)"
      ],
      "metadata": {
        "execution": {
          "iopub.status.busy": "2025-05-12T09:37:34.490567Z",
          "iopub.execute_input": "2025-05-12T09:37:34.491525Z",
          "iopub.status.idle": "2025-05-12T09:37:47.319289Z",
          "shell.execute_reply.started": "2025-05-12T09:37:34.491488Z",
          "shell.execute_reply": "2025-05-12T09:37:47.318246Z"
        },
        "trusted": true,
        "id": "ocHZeTD23XfX",
        "outputId": "be81d1c7-d651-4526-9460-74c9aaca05ff",
        "colab": {
          "base_uri": "https://localhost:8080/"
        }
      },
      "outputs": [
        {
          "output_type": "stream",
          "name": "stdout",
          "text": [
            "with multiprocessing: 48.1897714138031\n"
          ]
        }
      ],
      "execution_count": 25
    },
    {
      "cell_type": "code",
      "source": [
        "x = np.array(images).reshape(3410, 64, 64,1)\n",
        "x.shape"
      ],
      "metadata": {
        "execution": {
          "iopub.status.busy": "2025-05-12T09:37:52.42739Z",
          "iopub.execute_input": "2025-05-12T09:37:52.427734Z",
          "iopub.status.idle": "2025-05-12T09:37:52.44216Z",
          "shell.execute_reply.started": "2025-05-12T09:37:52.427703Z",
          "shell.execute_reply": "2025-05-12T09:37:52.441266Z"
        },
        "trusted": true,
        "id": "Mq8YUjJC3XfX"
      },
      "outputs": [],
      "execution_count": null
    },
    {
      "cell_type": "code",
      "source": [
        "img = x[119].reshape((64,64))\n",
        "plt.imshow(img,cmap='gray')\n",
        "print(df['label'].iloc[119])"
      ],
      "metadata": {
        "execution": {
          "iopub.status.busy": "2025-05-12T09:37:53.954903Z",
          "iopub.execute_input": "2025-05-12T09:37:53.955254Z",
          "iopub.status.idle": "2025-05-12T09:37:54.191522Z",
          "shell.execute_reply.started": "2025-05-12T09:37:53.955226Z",
          "shell.execute_reply": "2025-05-12T09:37:54.190686Z"
        },
        "trusted": true,
        "id": "mxUw1iKo3XfY",
        "outputId": "f34338b7-6a03-4aa9-c93e-b76f603fb416",
        "colab": {
          "base_uri": "https://localhost:8080/",
          "height": 449
        }
      },
      "outputs": [
        {
          "output_type": "stream",
          "name": "stdout",
          "text": [
            "2\n"
          ]
        },
        {
          "output_type": "display_data",
          "data": {
            "text/plain": [
              "<Figure size 640x480 with 1 Axes>"
            ],
            "image/png": "[encoded data removed]"
          },
          "metadata": {}
        }
      ],
      "execution_count": 27
    },
    {
      "cell_type": "code",
      "source": [
        "y = df['label']\n",
        "le = LabelEncoder()\n",
        "y_label = le.fit_transform(y)"
      ],
      "metadata": {
        "execution": {
          "iopub.status.busy": "2025-05-12T09:37:57.83935Z",
          "iopub.execute_input": "2025-05-12T09:37:57.839666Z",
          "iopub.status.idle": "2025-05-12T09:37:57.844843Z",
          "shell.execute_reply.started": "2025-05-12T09:37:57.839638Z",
          "shell.execute_reply": "2025-05-12T09:37:57.84402Z"
        },
        "trusted": true,
        "id": "6LB22Qka3XfY"
      },
      "outputs": [],
      "execution_count": 28
    },
    {
      "cell_type": "code",
      "source": [
        "train_images,test_images,train_labels,test_labels = train_test_split(x,y_label,test_size=0.2,random_state=42)\n",
        "train_images = train_images/255.0\n",
        "test_images = test_images/255.0"
      ],
      "metadata": {
        "execution": {
          "iopub.status.busy": "2025-05-12T09:37:59.677886Z",
          "iopub.execute_input": "2025-05-12T09:37:59.678225Z",
          "iopub.status.idle": "2025-05-12T09:37:59.724221Z",
          "shell.execute_reply.started": "2025-05-12T09:37:59.678201Z",
          "shell.execute_reply": "2025-05-12T09:37:59.723259Z"
        },
        "trusted": true,
        "id": "RLWoblMn3XfY"
      },
      "outputs": [],
      "execution_count": 29
    },
    {
      "cell_type": "code",
      "source": [
        "model = Sequential()\n",
        "model.add(Conv2D(512,(5,5),activation='relu',input_shape=(64,64,1)))\n",
        "model.add(MaxPool2D(2,2))\n",
        "model.add(Conv2D(256,(3,3),activation='relu',input_shape=(64,64,1)))\n",
        "model.add(MaxPool2D(2,2))\n",
        "model.add(Conv2D(256,(3,3),activation='relu'))\n",
        "model.add(MaxPool2D(2,2))\n",
        "model.add(Flatten())\n",
        "model.add(Dense(512,activation='relu'))\n",
        "model.add(Dense(1024,activation='relu'))\n",
        "model.add(Dense(512,activation='relu'))\n",
        "model.add(Dense(256,activation='sigmoid'))\n",
        "model.add(Dense(62,activation='softmax'))\n",
        "model.compile(loss='sparse_categorical_crossentropy',optimizer='adam',metrics=['accuracy'])\n",
        "model.fit(train_images,train_labels,epochs=20,validation_data = (test_images,test_labels))"
      ],
      "metadata": {
        "execution": {
          "iopub.status.busy": "2025-05-12T09:38:00.797746Z",
          "iopub.execute_input": "2025-05-12T09:38:00.798162Z",
          "iopub.status.idle": "2025-05-12T09:38:54.102472Z",
          "shell.execute_reply.started": "2025-05-12T09:38:00.798133Z",
          "shell.execute_reply": "2025-05-12T09:38:54.101596Z"
        },
        "trusted": true,
        "id": "h72c8GpE3XfY",
        "outputId": "18bfea41-a8bc-4adb-e4c5-8448ad70f223",
        "colab": {
          "base_uri": "https://localhost:8080/"
        }
      },
      "outputs": [
        {
          "output_type": "stream",
          "name": "stderr",
          "text": [
            "/usr/local/lib/python3.11/dist-packages/keras/src/layers/convolutional/base_conv.py:107: UserWarning: Do not pass an `input_shape`/`input_dim` argument to a layer. When using Sequential models, prefer using an `Input(shape)` object as the first layer in the model instead.\n",
            "  super().__init__(activity_regularizer=activity_regularizer, **kwargs)\n"
          ]
        },
        {
          "output_type": "stream",
          "name": "stdout",
          "text": [
            "Epoch 1/20\n",
            "\u001b[1m75/86\u001b[0m \u001b[32m━━━━━━━━━━━━━━━━━\u001b[0m\u001b[37m━━━\u001b[0m \u001b[1m1:00\u001b[0m 5s/step - accuracy: 0.0128 - loss: 4.2216"
          ]
        }
      ],
      "execution_count": null
    },
    {
      "cell_type": "code",
      "source": [
        "model.summary()"
      ],
      "metadata": {
        "execution": {
          "iopub.status.busy": "2025-05-12T09:38:54.10391Z",
          "iopub.execute_input": "2025-05-12T09:38:54.104203Z",
          "iopub.status.idle": "2025-05-12T09:38:54.134013Z",
          "shell.execute_reply.started": "2025-05-12T09:38:54.104181Z",
          "shell.execute_reply": "2025-05-12T09:38:54.133255Z"
        },
        "trusted": true,
        "id": "5m9ZmnRx3XfZ"
      },
      "outputs": [],
      "execution_count": null
    },
    {
      "cell_type": "code",
      "source": [
        "predicted_labels = le.inverse_transform(model.predict(test_images).argmax(axis=1))\n",
        "actual_labels = le.inverse_transform(test_labels)"
      ],
      "metadata": {
        "execution": {
          "iopub.status.busy": "2025-05-12T09:38:54.135168Z",
          "iopub.execute_input": "2025-05-12T09:38:54.135873Z",
          "iopub.status.idle": "2025-05-12T09:38:54.481726Z",
          "shell.execute_reply.started": "2025-05-12T09:38:54.135841Z",
          "shell.execute_reply": "2025-05-12T09:38:54.480996Z"
        },
        "trusted": true,
        "id": "2zxwQGk73XfZ"
      },
      "outputs": [],
      "execution_count": null
    },
    {
      "cell_type": "code",
      "source": [
        "print('predicted label is ;',predicted_labels[67])\n",
        "print('Actual Label is :',actual_labels[67])"
      ],
      "metadata": {
        "execution": {
          "iopub.status.busy": "2025-05-12T09:38:54.48373Z",
          "iopub.execute_input": "2025-05-12T09:38:54.484333Z",
          "iopub.status.idle": "2025-05-12T09:38:54.488783Z",
          "shell.execute_reply.started": "2025-05-12T09:38:54.4843Z",
          "shell.execute_reply": "2025-05-12T09:38:54.48796Z"
        },
        "trusted": true,
        "id": "51djo61c3XfZ"
      },
      "outputs": [],
      "execution_count": null
    },
    {
      "cell_type": "markdown",
      "source": [
        "# if you want to test by yourself"
      ],
      "metadata": {
        "id": "Am9KWztd3XfZ"
      }
    },
    {
      "cell_type": "code",
      "source": [
        "# number of image to be predicted\n",
        "# change the value of I\n",
        "i = 450\n",
        "\n",
        "\n",
        "\n",
        "plt.imshow(test_images[i],cmap='gray')\n",
        "print('printed label :',predicted_labels[i])\n",
        "print('actual label :', actual_labels[i])"
      ],
      "metadata": {
        "execution": {
          "iopub.status.busy": "2025-05-12T09:39:07.041551Z",
          "iopub.execute_input": "2025-05-12T09:39:07.042134Z",
          "iopub.status.idle": "2025-05-12T09:39:07.208504Z",
          "shell.execute_reply.started": "2025-05-12T09:39:07.042103Z",
          "shell.execute_reply": "2025-05-12T09:39:07.207651Z"
        },
        "trusted": true,
        "id": "_u8xIukW3Xfa",
        "outputId": "ae329c4b-8b04-428d-b15f-d54ba8d03133"
      },
      "outputs": [
        {
          "name": "stdout",
          "text": "printed label : B\nactual label : B\n",
          "output_type": "stream"
        },
        {
          "output_type": "display_data",
          "data": {
            "text/plain": "<Figure size 640x480 with 1 Axes>",
            "image/png": "[encoded data removed]"
          },
          "metadata": {}
        }
      ],
      "execution_count": null
    },
    {
      "cell_type": "code",
      "source": [
        "from sklearn.metrics import accuracy_score, precision_score, recall_score, f1_score, confusion_matrix\n",
        "\n",
        "\n",
        "y_pred = model.predict(test_images)\n",
        "y_pred_labels = np.argmax(y_pred, axis=1)\n",
        "\n",
        "# Calculate evaluation metrics\n",
        "accuracy = accuracy_score(test_labels, y_pred_labels)\n",
        "precision = precision_score(test_labels, y_pred_labels, average='weighted')\n",
        "recall = recall_score(test_labels, y_pred_labels, average='weighted')\n",
        "f1 = f1_score(test_labels, y_pred_labels, average='weighted')\n",
        "confusion_mat = confusion_matrix(test_labels, y_pred_labels)\n",
        "\n",
        "# Print or use the evaluation metrics as needed\n",
        "print(\"Accuracy:\", accuracy)\n",
        "print(\"Precision:\", precision)\n",
        "print(\"Recall:\", recall)\n",
        "print(\"F1 Score:\", f1)\n",
        "print(\"Confusion Matrix:\")\n",
        "print(confusion_mat)"
      ],
      "metadata": {
        "execution": {
          "iopub.status.busy": "2025-05-12T09:39:11.39292Z",
          "iopub.execute_input": "2025-05-12T09:39:11.393516Z",
          "iopub.status.idle": "2025-05-12T09:39:11.639877Z",
          "shell.execute_reply.started": "2025-05-12T09:39:11.393478Z",
          "shell.execute_reply": "2025-05-12T09:39:11.639028Z"
        },
        "trusted": true,
        "id": "7_6gMbwe3Xfa",
        "outputId": "a5849714-7717-4f1e-b1f9-558cbfa74fae"
      },
      "outputs": [
        {
          "name": "stdout",
          "text": "22/22 [==============================] - 0s 8ms/step\nAccuracy: 0.7448680351906158\nPrecision: 0.7576027173954981\nRecall: 0.7448680351906158\nF1 Score: 0.7430856064716895\nConfusion Matrix:\n[[ 7  0  0 ...  0  0  0]\n [ 0  8  0 ...  0  0  0]\n [ 0  0  8 ...  0  0  0]\n ...\n [ 0  0  0 ... 12  0  0]\n [ 0  0  0 ...  0  5  0]\n [ 0  0  0 ...  0  0  7]]\n",
          "output_type": "stream"
        }
      ],
      "execution_count": null
    },
    {
      "cell_type": "code",
      "source": [],
      "metadata": {
        "trusted": true,
        "id": "1u49MR1U3Xfb"
      },
      "outputs": [],
      "execution_count": null
    },
    {
      "cell_type": "code",
      "source": [],
      "metadata": {
        "trusted": true,
        "id": "kBFAoC5M3Xfb"
      },
      "outputs": [],
      "execution_count": null
    },
    {
      "cell_type": "code",
      "source": [],
      "metadata": {
        "id": "B-1stYoM3Xfb"
      },
      "outputs": [],
      "execution_count": null
    }
  ]
}